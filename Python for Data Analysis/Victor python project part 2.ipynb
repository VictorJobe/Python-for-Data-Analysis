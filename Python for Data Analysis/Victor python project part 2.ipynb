{
 "cells": [
  {
   "cell_type": "code",
   "execution_count": 100,
   "id": "336dad94-d944-4923-874a-8f39ce44d14a",
   "metadata": {},
   "outputs": [],
   "source": [
    "import seaborn as sb \n",
    "import pandas as pd\n"
   ]
  },
  {
   "cell_type": "code",
   "execution_count": 101,
   "id": "9878d29f-c3ec-4ae3-ad28-5284bcd07018",
   "metadata": {},
   "outputs": [
    {
     "data": {
      "text/html": [
       "<div>\n",
       "<style scoped>\n",
       "    .dataframe tbody tr th:only-of-type {\n",
       "        vertical-align: middle;\n",
       "    }\n",
       "\n",
       "    .dataframe tbody tr th {\n",
       "        vertical-align: top;\n",
       "    }\n",
       "\n",
       "    .dataframe thead th {\n",
       "        text-align: right;\n",
       "    }\n",
       "</style>\n",
       "<table border=\"1\" class=\"dataframe\">\n",
       "  <thead>\n",
       "    <tr style=\"text-align: right;\">\n",
       "      <th></th>\n",
       "      <th>carat</th>\n",
       "      <th>cut</th>\n",
       "      <th>color</th>\n",
       "      <th>clarity</th>\n",
       "      <th>depth</th>\n",
       "      <th>table</th>\n",
       "      <th>price</th>\n",
       "      <th>x</th>\n",
       "      <th>y</th>\n",
       "      <th>z</th>\n",
       "    </tr>\n",
       "  </thead>\n",
       "  <tbody>\n",
       "    <tr>\n",
       "      <th>0</th>\n",
       "      <td>0.23</td>\n",
       "      <td>Ideal</td>\n",
       "      <td>E</td>\n",
       "      <td>SI2</td>\n",
       "      <td>61.5</td>\n",
       "      <td>55.0</td>\n",
       "      <td>326</td>\n",
       "      <td>3.95</td>\n",
       "      <td>3.98</td>\n",
       "      <td>2.43</td>\n",
       "    </tr>\n",
       "    <tr>\n",
       "      <th>1</th>\n",
       "      <td>0.21</td>\n",
       "      <td>Premium</td>\n",
       "      <td>E</td>\n",
       "      <td>SI1</td>\n",
       "      <td>59.8</td>\n",
       "      <td>61.0</td>\n",
       "      <td>326</td>\n",
       "      <td>3.89</td>\n",
       "      <td>3.84</td>\n",
       "      <td>2.31</td>\n",
       "    </tr>\n",
       "    <tr>\n",
       "      <th>2</th>\n",
       "      <td>0.23</td>\n",
       "      <td>Good</td>\n",
       "      <td>E</td>\n",
       "      <td>VS1</td>\n",
       "      <td>56.9</td>\n",
       "      <td>65.0</td>\n",
       "      <td>327</td>\n",
       "      <td>4.05</td>\n",
       "      <td>4.07</td>\n",
       "      <td>2.31</td>\n",
       "    </tr>\n",
       "    <tr>\n",
       "      <th>3</th>\n",
       "      <td>0.29</td>\n",
       "      <td>Premium</td>\n",
       "      <td>I</td>\n",
       "      <td>VS2</td>\n",
       "      <td>62.4</td>\n",
       "      <td>58.0</td>\n",
       "      <td>334</td>\n",
       "      <td>4.20</td>\n",
       "      <td>4.23</td>\n",
       "      <td>2.63</td>\n",
       "    </tr>\n",
       "    <tr>\n",
       "      <th>4</th>\n",
       "      <td>0.31</td>\n",
       "      <td>Good</td>\n",
       "      <td>J</td>\n",
       "      <td>SI2</td>\n",
       "      <td>63.3</td>\n",
       "      <td>58.0</td>\n",
       "      <td>335</td>\n",
       "      <td>4.34</td>\n",
       "      <td>4.35</td>\n",
       "      <td>2.75</td>\n",
       "    </tr>\n",
       "    <tr>\n",
       "      <th>...</th>\n",
       "      <td>...</td>\n",
       "      <td>...</td>\n",
       "      <td>...</td>\n",
       "      <td>...</td>\n",
       "      <td>...</td>\n",
       "      <td>...</td>\n",
       "      <td>...</td>\n",
       "      <td>...</td>\n",
       "      <td>...</td>\n",
       "      <td>...</td>\n",
       "    </tr>\n",
       "    <tr>\n",
       "      <th>53935</th>\n",
       "      <td>0.72</td>\n",
       "      <td>Ideal</td>\n",
       "      <td>D</td>\n",
       "      <td>SI1</td>\n",
       "      <td>60.8</td>\n",
       "      <td>57.0</td>\n",
       "      <td>2757</td>\n",
       "      <td>5.75</td>\n",
       "      <td>5.76</td>\n",
       "      <td>3.50</td>\n",
       "    </tr>\n",
       "    <tr>\n",
       "      <th>53936</th>\n",
       "      <td>0.72</td>\n",
       "      <td>Good</td>\n",
       "      <td>D</td>\n",
       "      <td>SI1</td>\n",
       "      <td>63.1</td>\n",
       "      <td>55.0</td>\n",
       "      <td>2757</td>\n",
       "      <td>5.69</td>\n",
       "      <td>5.75</td>\n",
       "      <td>3.61</td>\n",
       "    </tr>\n",
       "    <tr>\n",
       "      <th>53937</th>\n",
       "      <td>0.70</td>\n",
       "      <td>Very Good</td>\n",
       "      <td>D</td>\n",
       "      <td>SI1</td>\n",
       "      <td>62.8</td>\n",
       "      <td>60.0</td>\n",
       "      <td>2757</td>\n",
       "      <td>5.66</td>\n",
       "      <td>5.68</td>\n",
       "      <td>3.56</td>\n",
       "    </tr>\n",
       "    <tr>\n",
       "      <th>53938</th>\n",
       "      <td>0.86</td>\n",
       "      <td>Premium</td>\n",
       "      <td>H</td>\n",
       "      <td>SI2</td>\n",
       "      <td>61.0</td>\n",
       "      <td>58.0</td>\n",
       "      <td>2757</td>\n",
       "      <td>6.15</td>\n",
       "      <td>6.12</td>\n",
       "      <td>3.74</td>\n",
       "    </tr>\n",
       "    <tr>\n",
       "      <th>53939</th>\n",
       "      <td>0.75</td>\n",
       "      <td>Ideal</td>\n",
       "      <td>D</td>\n",
       "      <td>SI2</td>\n",
       "      <td>62.2</td>\n",
       "      <td>55.0</td>\n",
       "      <td>2757</td>\n",
       "      <td>5.83</td>\n",
       "      <td>5.87</td>\n",
       "      <td>3.64</td>\n",
       "    </tr>\n",
       "  </tbody>\n",
       "</table>\n",
       "<p>53940 rows × 10 columns</p>\n",
       "</div>"
      ],
      "text/plain": [
       "       carat        cut color clarity  depth  table  price     x     y     z\n",
       "0       0.23      Ideal     E     SI2   61.5   55.0    326  3.95  3.98  2.43\n",
       "1       0.21    Premium     E     SI1   59.8   61.0    326  3.89  3.84  2.31\n",
       "2       0.23       Good     E     VS1   56.9   65.0    327  4.05  4.07  2.31\n",
       "3       0.29    Premium     I     VS2   62.4   58.0    334  4.20  4.23  2.63\n",
       "4       0.31       Good     J     SI2   63.3   58.0    335  4.34  4.35  2.75\n",
       "...      ...        ...   ...     ...    ...    ...    ...   ...   ...   ...\n",
       "53935   0.72      Ideal     D     SI1   60.8   57.0   2757  5.75  5.76  3.50\n",
       "53936   0.72       Good     D     SI1   63.1   55.0   2757  5.69  5.75  3.61\n",
       "53937   0.70  Very Good     D     SI1   62.8   60.0   2757  5.66  5.68  3.56\n",
       "53938   0.86    Premium     H     SI2   61.0   58.0   2757  6.15  6.12  3.74\n",
       "53939   0.75      Ideal     D     SI2   62.2   55.0   2757  5.83  5.87  3.64\n",
       "\n",
       "[53940 rows x 10 columns]"
      ]
     },
     "execution_count": 101,
     "metadata": {},
     "output_type": "execute_result"
    }
   ],
   "source": [
    "df=sb.load_dataset('diamonds')\n",
    "df\n"
   ]
  },
  {
   "cell_type": "code",
   "execution_count": 102,
   "id": "37aa9c17-db3c-4d6a-8812-b7b510c861e1",
   "metadata": {},
   "outputs": [
    {
     "name": "stdout",
     "output_type": "stream",
     "text": [
      "The price is 18823\n"
     ]
    }
   ],
   "source": [
    "#Question 1. \n",
    "#           How much is the most expensive diamond?\n",
    "#\n",
    "# The function used to calculate max value is max().\n",
    "# I'll use this function in the column price,\n",
    "# and then store this data in the variable called .\n",
    "\n",
    "max_price = df['price'].max()\n",
    "print(f'The price is {max_price}')"
   ]
  },
  {
   "cell_type": "code",
   "execution_count": 103,
   "id": "d8c8644a-2314-4115-8dfc-f91f8e08a839",
   "metadata": {},
   "outputs": [
    {
     "name": "stdout",
     "output_type": "stream",
     "text": [
      "The average price is 3932.8\n"
     ]
    }
   ],
   "source": [
    "#Question 2.\n",
    "#           What is the diamonds average price?\n",
    "# \n",
    "# The function used to calculate average is mean().\n",
    "# I'll use this function in the column price,\n",
    "# and then store this data in the variable called avg_price. \n",
    "# I used round(2) to round to 2 digits after the dot.\n",
    "\n",
    "avg_price = df['price'].mean().round(2)\n",
    "print(f'The average price is {avg_price}')\n"
   ]
  },
  {
   "cell_type": "code",
   "execution_count": 104,
   "id": "165ee077-729f-4e52-afe7-ea2b9ebe2ae4",
   "metadata": {},
   "outputs": [
    {
     "name": "stdout",
     "output_type": "stream",
     "text": [
      "The number of diamonds with an 'Ideal' cut is: 21551\n"
     ]
    }
   ],
   "source": [
    "#Question 3.\n",
    "#           How many diamonds with ideal cut exist?\n",
    "#\n",
    "# I'll use pandas to filter the column 'cut', \n",
    "# where the row data is 'Ideal' \n",
    "# and then count it using shape[0].\n",
    "\n",
    "ideal_count = df[df['cut'] == 'Ideal'].shape[0]\n",
    "print(f\"The number of diamonds with an 'Ideal' cut is: {ideal_count}\")"
   ]
  },
  {
   "cell_type": "code",
   "execution_count": 105,
   "id": "08a64cb9-9150-4db5-a849-ddd65cfceb4c",
   "metadata": {},
   "outputs": [
    {
     "name": "stdout",
     "output_type": "stream",
     "text": [
      "There are 7 different colors in diamonds.\n",
      "The colors are: E, I, J, H, F, G, D\n"
     ]
    }
   ],
   "source": [
    "#Question 4.\n",
    "#           How many different colors are there in diamonds? What are they?\n",
    "# I'll use pandas to filter the 'color' column using the function unique(). \n",
    "# This will return a list of color that I'll call unique_colors, without repeated values,\n",
    "# Then I'll use the len() funtion to count how many color are in that list.\n",
    "# After that, I'll use join funtion to display the values separated by ','.\n",
    "\n",
    "unique_colors = df['color'].unique()\n",
    "num_colors = len(unique_colors)\n",
    "print(f\"There are {num_colors} different colors in diamonds.\")\n",
    "print(f\"The colors are: {', '.join(unique_colors)}\")\n"
   ]
  },
  {
   "cell_type": "code",
   "execution_count": 106,
   "id": "eaafc013-8ad3-4122-8ba2-04b23f41aa6f",
   "metadata": {},
   "outputs": [
    {
     "name": "stdout",
     "output_type": "stream",
     "text": [
      "0.86\n"
     ]
    }
   ],
   "source": [
    "#Question 5.\n",
    "#           What is the median carat of Premium diamonds?\n",
    "#\n",
    "# I'll use pandas to filter the dataset for 'Premium' diamonds,\n",
    "# Then calculate the median carat using the function median(),\n",
    "# And saving this data in the median_carat variable.\n",
    "\n",
    "median_carat = df[df['cut'] == 'Premium']['carat'].median()\n",
    "print(float(median_carat))"
   ]
  },
  {
   "cell_type": "code",
   "execution_count": 107,
   "id": "6953fe7e-133c-40c9-b7d8-ad17a1380887",
   "metadata": {},
   "outputs": [
    {
     "name": "stdout",
     "output_type": "stream",
     "text": [
      "cut\n",
      "Ideal        0.70\n",
      "Premium      0.89\n",
      "Very Good    0.81\n",
      "Good         0.85\n",
      "Fair         1.05\n",
      "Name: carat, dtype: float64\n"
     ]
    }
   ],
   "source": [
    "#Question 6.\n",
    "#           Show the average carat for each cut type.\n",
    "#\n",
    "# I'll use pandas to group the carat column by each cut type, using the groupby function,\n",
    "# And then calculate the average 'carat' for each cut type\n",
    "# Rounding for 2 digits after the dot, using the round function.\n",
    "\n",
    "avg_carat_per_cut = df.groupby('cut', observed=False)['carat'].mean().round(2)\n",
    "print(avg_carat_per_cut)"
   ]
  },
  {
   "cell_type": "code",
   "execution_count": 108,
   "id": "13a5e660-768c-4dfd-a82d-78a273032265",
   "metadata": {},
   "outputs": [
    {
     "name": "stdout",
     "output_type": "stream",
     "text": [
      "color\n",
      "D    3169.95\n",
      "E    3076.75\n",
      "F    3724.89\n",
      "G    3999.14\n",
      "H    4486.67\n",
      "I    5091.87\n",
      "J    5323.82\n",
      "Name: price, dtype: float64\n"
     ]
    }
   ],
   "source": [
    "#Question 7.\n",
    "#           Calculate the average price for each color.\n",
    "#\n",
    "# I'll use pandas to group the diamonds color by there price,\n",
    "# Calculate the average using the function mean,\n",
    "# And then round the result for 2 digits after the dot using the round function.\n",
    "\n",
    "avg_price_per_color = df.groupby('color',observed=False)['price'].mean().round(2)\n",
    "print(avg_price_per_color)"
   ]
  },
  {
   "cell_type": "code",
   "execution_count": null,
   "id": "286784b6-fc47-4056-a37f-6dccf3628408",
   "metadata": {},
   "outputs": [],
   "source": []
  }
 ],
 "metadata": {
  "kernelspec": {
   "display_name": "Python 3 (ipykernel)",
   "language": "python",
   "name": "python3"
  },
  "language_info": {
   "codemirror_mode": {
    "name": "ipython",
    "version": 3
   },
   "file_extension": ".py",
   "mimetype": "text/x-python",
   "name": "python",
   "nbconvert_exporter": "python",
   "pygments_lexer": "ipython3",
   "version": "3.10.1"
  }
 },
 "nbformat": 4,
 "nbformat_minor": 5
}
